{
 "cells": [
  {
   "cell_type": "code",
   "execution_count": 1,
   "id": "adcc67f6-410d-49f2-96bc-f5be1a06fd0a",
   "metadata": {},
   "outputs": [],
   "source": [
    "from radiographyDataNormalize_class import RadiographyDataNormalize"
   ]
  },
  {
   "cell_type": "code",
   "execution_count": 2,
   "id": "db7d307c-8076-4fdb-89db-f06690c9eb11",
   "metadata": {},
   "outputs": [],
   "source": [
    "Radio = RadiographyDataNormalize('/dls/k11/data/2025/cm40627-1/nexus/k11-53999.nxs',\n",
    "                                 '/dls/k11/data/2025/cm40627-1/nexus/k11-53999.nxs',\n",
    "                                 '/dls/k11/data/2025/cm40627-1/nexus/k11-53999.nxs',\n",
    "                                 '/dls/k11/data/2025/cm40627-1/tmp/frame')"
   ]
  },
  {
   "cell_type": "code",
   "execution_count": 3,
   "id": "a876c2fd-f898-4c92-8c68-28e158d5c11e",
   "metadata": {},
   "outputs": [],
   "source": [
    "Radio.InputOutput()"
   ]
  },
  {
   "cell_type": "code",
   "execution_count": 4,
   "id": "07f7020e-ff36-4050-8ab1-590893cca8a0",
   "metadata": {},
   "outputs": [
    {
     "data": {
      "application/vnd.jupyter.widget-view+json": {
       "model_id": "156e7c00d1d14bc88226e8873635b82f",
       "version_major": 2,
       "version_minor": 0
      },
      "text/plain": [
       "VBox(children=(HBox(children=(Label(value='Frame:'), IntSlider(value=0, layout=Layout(width='200px'), max=1279…"
      ]
     },
     "metadata": {},
     "output_type": "display_data"
    }
   ],
   "source": [
    "Radio.RadiographyExplorer()"
   ]
  },
  {
   "cell_type": "code",
   "execution_count": 5,
   "id": "70a667e3-11c8-4037-a4bc-dd3a3c47456d",
   "metadata": {},
   "outputs": [],
   "source": [
    "Radio2 = RadiographyDataNormalize()"
   ]
  },
  {
   "cell_type": "code",
   "execution_count": 7,
   "id": "c02f2358-5eca-47f0-ad53-78e12f6ad0bc",
   "metadata": {},
   "outputs": [
    {
     "data": {
      "application/vnd.jupyter.widget-view+json": {
       "model_id": "c509ea92b04746eab36b9d9c4e085566",
       "version_major": 2,
       "version_minor": 0
      },
      "text/plain": [
       "VBox(children=(HBox(children=(Label(value='Frame:'), IntSlider(value=0, layout=Layout(width='200px'), max=29, …"
      ]
     },
     "metadata": {},
     "output_type": "display_data"
    }
   ],
   "source": [
    "Radio2.RadiographyExplorer()"
   ]
  },
  {
   "cell_type": "code",
   "execution_count": null,
   "id": "594734c6-7eed-4f63-8509-629d75eb0086",
   "metadata": {},
   "outputs": [],
   "source": []
  },
  {
   "cell_type": "code",
   "execution_count": 6,
   "id": "b707543f-bdc6-4804-a535-b0841617b09f",
   "metadata": {},
   "outputs": [
    {
     "data": {
      "application/vnd.jupyter.widget-view+json": {
       "model_id": "b0c01c69c98041b4a61eee5e71f4fe97",
       "version_major": 2,
       "version_minor": 0
      },
      "text/plain": [
       "FileChooser(path='/home/cxh52226/Documents/Development/DataPostprocessing', filename='', title='Raw Radiograph…"
      ]
     },
     "metadata": {},
     "output_type": "display_data"
    },
    {
     "data": {
      "application/vnd.jupyter.widget-view+json": {
       "model_id": "aaeaf88b17e946fa88bc3176bb5162be",
       "version_major": 2,
       "version_minor": 0
      },
      "text/plain": [
       "FileChooser(path='/home/cxh52226/Documents/Development/DataPostprocessing', filename='', title='Flat Field Rad…"
      ]
     },
     "metadata": {},
     "output_type": "display_data"
    },
    {
     "data": {
      "application/vnd.jupyter.widget-view+json": {
       "model_id": "82f34b304604448ab3119b729189538c",
       "version_major": 2,
       "version_minor": 0
      },
      "text/plain": [
       "FileChooser(path='/home/cxh52226/Documents/Development/DataPostprocessing', filename='', title='Dark Field Rad…"
      ]
     },
     "metadata": {},
     "output_type": "display_data"
    },
    {
     "data": {
      "application/vnd.jupyter.widget-view+json": {
       "model_id": "f6e4818db5b64e05aafe9881e167a678",
       "version_major": 2,
       "version_minor": 0
      },
      "text/plain": [
       "FileChooser(path='/home/cxh52226/Documents/Development/DataPostprocessing', filename='', title='Destination Ro…"
      ]
     },
     "metadata": {},
     "output_type": "display_data"
    }
   ],
   "source": [
    "Radio2.InputOutput()"
   ]
  }
 ],
 "metadata": {
  "kernelspec": {
   "display_name": "Python 3 (ipykernel)",
   "language": "python",
   "name": "python3"
  },
  "language_info": {
   "codemirror_mode": {
    "name": "ipython",
    "version": 3
   },
   "file_extension": ".py",
   "mimetype": "text/x-python",
   "name": "python",
   "nbconvert_exporter": "python",
   "pygments_lexer": "ipython3",
   "version": "3.10.12"
  }
 },
 "nbformat": 4,
 "nbformat_minor": 5
}
